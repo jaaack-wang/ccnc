{
 "cells": [
  {
   "cell_type": "code",
   "execution_count": 1,
   "metadata": {},
   "outputs": [],
   "source": [
    "import json\n",
    "from pypinyin import pinyin, lazy_pinyin"
   ]
  },
  {
   "cell_type": "code",
   "execution_count": 2,
   "metadata": {},
   "outputs": [],
   "source": [
    "def convert_to_pinyin(filepath, tone=False):\n",
    "    '''\n",
    "    Converts and writes the name corpus into a pinyin version of file\n",
    "    Paras:\n",
    "        tone: bool, by default = False\n",
    "    '''\n",
    "    nameInfo = open(filepath, 'r')\n",
    "    # skip the header\n",
    "    next(nameInfo)\n",
    "    \n",
    "    if not tone:\n",
    "        fileName = 'ccnc_pinyin.txt'\n",
    "        # loading the last names' pinyins\n",
    "        ln_py = json.load(open('ChineseLastNamesNoTones.json', 'r'))\n",
    "        # define the pinyin method \n",
    "        pyin = lambda string: ''.join(lazy_pinyin(string))\n",
    "    else:\n",
    "        fileName = 'ccnc_pinyin_with_tones.txt'\n",
    "        ln_py = json.load(open('ChineseLastNamesWithTones.json', 'r'))\n",
    "        pyin = lambda string: ''.join(i[0] for i in pinyin(string))\n",
    "        \n",
    "    \n",
    "    # creating and writing pinyin version of the file\n",
    "    f = open(fileName, 'w')\n",
    "    template = '{}\\t{}\\t{}\\t{}'\n",
    "    f.write(template.format('Last Name', 'First Name', 'Full Name', 'Gender'))\n",
    "    f.write('\\n')\n",
    "    \n",
    "    for line in nameInfo:\n",
    "        line = line.split('\\t')\n",
    "        lastName = line[0]\n",
    "        firstName = line[1]\n",
    "        gender = line[-1]\n",
    "        \n",
    "        # converting pinyin \n",
    "        lastName = ln_py[lastName].replace(' ', '')\n",
    "        firstName = pyin(firstName)\n",
    "            \n",
    "        f.write(template.format(lastName, firstName, lastName + ' ' + firstName, gender))\n",
    "    \n",
    "    f.close()\n",
    "    print(fileName + ' is saved!')"
   ]
  },
  {
   "cell_type": "code",
   "execution_count": 5,
   "metadata": {},
   "outputs": [
    {
     "name": "stdout",
     "output_type": "stream",
     "text": [
      "ccnc_pinyin_with_tones.txt is saved!\n"
     ]
    }
   ],
   "source": [
    "convert_to_pinyin('ccnc.txt', True)"
   ]
  },
  {
   "cell_type": "code",
   "execution_count": null,
   "metadata": {},
   "outputs": [],
   "source": []
  }
 ],
 "metadata": {
  "kernelspec": {
   "display_name": "Python 3",
   "language": "python",
   "name": "python3"
  },
  "language_info": {
   "codemirror_mode": {
    "name": "ipython",
    "version": 3
   },
   "file_extension": ".py",
   "mimetype": "text/x-python",
   "name": "python",
   "nbconvert_exporter": "python",
   "pygments_lexer": "ipython3",
   "version": "3.8.5"
  }
 },
 "nbformat": 4,
 "nbformat_minor": 4
}
