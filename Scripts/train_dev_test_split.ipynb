{
 "cells": [
  {
   "cell_type": "code",
   "execution_count": 1,
   "metadata": {},
   "outputs": [],
   "source": [
    "from random import shuffle, seed "
   ]
  },
  {
   "cell_type": "code",
   "execution_count": 2,
   "metadata": {},
   "outputs": [],
   "source": [
    "def readFile(file='ccnc.txt'):\n",
    "    '''Read a file given its file path.\n",
    "    \n",
    "    Paras:\n",
    "        file: filepath. Defaults to 'ccnc.txt'. Please\n",
    "            ensure this file is within the current directory. \n",
    "    \n",
    "    '''\n",
    "    data = []\n",
    "    f = open('ccnc.txt', 'r')\n",
    "    header = next(f)\n",
    "    for line in f:\n",
    "        data.append(line)\n",
    "    return data\n",
    "\n",
    "\n",
    "def train_dev_test_split(data, train=0.6, dev=0.2, test=0.2, seed_idx=5):\n",
    "    '''\n",
    "    Split ccnc.txt into train, dev and test sets with a predefined ratio.\n",
    "    \n",
    "    Paras:\n",
    "        train, dev, test: respective ratio for the train, dev and test sets. \n",
    "            Default to 0.6, 0.2, 0.2 respectively. \n",
    "        seed_idx: Int. Defaults to 5 (a random picked seed). \n",
    "    '''\n",
    "    \n",
    "    seed(seed_idx)\n",
    "    shuffle(data)\n",
    "    length = len(data)\n",
    "    boundary1 = round(length * train)\n",
    "    boundary2 = round(length * (train + dev))\n",
    "    \n",
    "    # return the tran_ds, dev_ds, test_ds \n",
    "    return data[:boundary1], data[boundary1: boundary2], data[boundary2:]\n",
    "\n",
    "\n",
    "def fileWriter(data, file_name):\n",
    "    '''Write a list of name examples back into a txt file and save in \n",
    "    the current directory if the full path is not given in the file_name.\n",
    "    \n",
    "    Paras:\n",
    "        data: list\n",
    "            a list of name examples; each example contains \n",
    "            last name, first name, full name and gender\n",
    "        file_name: str\n",
    "    '''\n",
    "    file_name = file_name if file_name.endswith('.txt') else file_name + '.txt'\n",
    "    tmp = '{}\\t{}\\t{}\\t{}'\n",
    "    with open(file_name, 'w') as f:\n",
    "        f.write(tmp.format('last name', 'first name', 'full name', 'gender\\n'))\n",
    "        f.write(''.join(data))"
   ]
  },
  {
   "cell_type": "code",
   "execution_count": 3,
   "metadata": {},
   "outputs": [
    {
     "name": "stdout",
     "output_type": "stream",
     "text": [
      "True\n"
     ]
    }
   ],
   "source": [
    "data = readFile()\n",
    "train_ds, dev_ds, test_ds = train_dev_test_split(data)\n",
    "# debug to see whether the spliting is working\n",
    "print(len(data) == len(train_ds) + len(dev_ds) + len(test_ds))"
   ]
  },
  {
   "cell_type": "code",
   "execution_count": 4,
   "metadata": {},
   "outputs": [],
   "source": [
    "fileWriter(train_ds, 'train_dev_test/train_ds.txt')\n",
    "fileWriter(dev_ds, 'train_dev_test/dev_ds.txt')\n",
    "fileWriter(test_ds, 'train_dev_test/test_ds.txt')"
   ]
  }
 ],
 "metadata": {
  "kernelspec": {
   "display_name": "Python 3",
   "language": "python",
   "name": "python3"
  },
  "language_info": {
   "codemirror_mode": {
    "name": "ipython",
    "version": 3
   },
   "file_extension": ".py",
   "mimetype": "text/x-python",
   "name": "python",
   "nbconvert_exporter": "python",
   "pygments_lexer": "ipython3",
   "version": "3.8.5"
  }
 },
 "nbformat": 4,
 "nbformat_minor": 4
}
